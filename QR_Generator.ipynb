{
  "nbformat": 4,
  "nbformat_minor": 0,
  "metadata": {
    "colab": {
      "provenance": [],
      "authorship_tag": "ABX9TyMRRuQj56ClcuQB2wowiCPq",
      "include_colab_link": true
    },
    "kernelspec": {
      "name": "python3",
      "display_name": "Python 3"
    },
    "language_info": {
      "name": "python"
    }
  },
  "cells": [
    {
      "cell_type": "markdown",
      "metadata": {
        "id": "view-in-github",
        "colab_type": "text"
      },
      "source": [
        "<a href=\"https://colab.research.google.com/github/arshiyaakishore/QR-Generator/blob/main/QR_Generator.ipynb\" target=\"_parent\"><img src=\"https://colab.research.google.com/assets/colab-badge.svg\" alt=\"Open In Colab\"/></a>"
      ]
    },
    {
      "cell_type": "code",
      "execution_count": 1,
      "metadata": {
        "colab": {
          "base_uri": "https://localhost:8080/"
        },
        "id": "7W64-1rXv8H8",
        "outputId": "0b67aa78-7233-4d3e-8012-c6fa77380830"
      },
      "outputs": [
        {
          "output_type": "stream",
          "name": "stdout",
          "text": [
            "Looking in indexes: https://pypi.org/simple, https://us-python.pkg.dev/colab-wheels/public/simple/\n",
            "Collecting pyqrcode\n",
            "  Downloading PyQRCode-1.2.1.zip (41 kB)\n",
            "\u001b[2K     \u001b[90m━━━━━━━━━━━━━━━━━━━━━━━━━━━━━━━━━━━━━━━━\u001b[0m \u001b[32m41.9/41.9 kB\u001b[0m \u001b[31m3.0 MB/s\u001b[0m eta \u001b[36m0:00:00\u001b[0m\n",
            "\u001b[?25h  Preparing metadata (setup.py) ... \u001b[?25l\u001b[?25hdone\n",
            "Collecting pypng\n",
            "  Downloading pypng-0.20220715.0-py3-none-any.whl (58 kB)\n",
            "\u001b[2K     \u001b[90m━━━━━━━━━━━━━━━━━━━━━━━━━━━━━━━━━━━━━━━━\u001b[0m \u001b[32m58.1/58.1 kB\u001b[0m \u001b[31m6.5 MB/s\u001b[0m eta \u001b[36m0:00:00\u001b[0m\n",
            "\u001b[?25hBuilding wheels for collected packages: pyqrcode\n",
            "  Building wheel for pyqrcode (setup.py) ... \u001b[?25l\u001b[?25hdone\n",
            "  Created wheel for pyqrcode: filename=PyQRCode-1.2.1-py3-none-any.whl size=36228 sha256=011a0daa7ad8ffafacae3d72da734d75020dc73bffc91966ddfc3da9fa56036a\n",
            "  Stored in directory: /root/.cache/pip/wheels/34/2d/20/082874e49a32cdcc87ebaf99dd0099fb7774ef30f010dfb6f2\n",
            "Successfully built pyqrcode\n",
            "Installing collected packages: pyqrcode, pypng\n",
            "Successfully installed pypng-0.20220715.0 pyqrcode-1.2.1\n"
          ]
        }
      ],
      "source": [
        "\n",
        "!pip install pyqrcode pypng"
      ]
    },
    {
      "cell_type": "code",
      "source": [
        "import pyqrcode\n",
        "#Define the data:\n",
        "# We need some text that we want to convert as our QR Code.\n",
        "# Since I am creating the QR Code for my github profile,\n",
        "# I will \"https://github.com/arshiyaakishore\" as data here. Let's store inside a variable.\n",
        "\n",
        "data=\"https://github.com/arshiyaakishore\""
      ],
      "metadata": {
        "id": "RlFurew9wH0z"
      },
      "execution_count": 3,
      "outputs": []
    },
    {
      "cell_type": "markdown",
      "source": [
        "# Create qrcode:\n",
        "# Now that we have the data with us, we can move forward and\n",
        "# make use of the package we just imported. Let's create an variable.\n",
        "# We will use the create method (as it results in a cleaner looking code) on data."
      ],
      "metadata": {
        "id": "wKGRCjmsw65F"
      }
    },
    {
      "cell_type": "code",
      "source": [
        "\n",
        "qr = pyqrcode.create(data)"
      ],
      "metadata": {
        "id": "UcmetH9jwk2u"
      },
      "execution_count": 4,
      "outputs": []
    },
    {
      "cell_type": "markdown",
      "source": [
        "Let's save the QR code now as mygithubID"
      ],
      "metadata": {
        "id": "rOgq7ZX7wz7J"
      }
    },
    {
      "cell_type": "code",
      "source": [
        "qr.png(\"mygithubID.png\", scale= 6)"
      ],
      "metadata": {
        "id": "qpwFi7jawrFK"
      },
      "execution_count": 5,
      "outputs": []
    }
  ]
}